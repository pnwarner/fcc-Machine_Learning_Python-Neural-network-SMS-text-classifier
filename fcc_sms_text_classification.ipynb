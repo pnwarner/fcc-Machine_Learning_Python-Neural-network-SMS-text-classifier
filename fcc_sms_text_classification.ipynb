{
  "cells": [
    {
      "cell_type": "code",
      "execution_count": null,
      "metadata": {
        "id": "8RZOuS9LWQvv"
        "language_info": {
          "name": "python",
        }
      },
      "outputs": [],
      "source": [
        "# import libraries\n",
        "try:\n",
        "  # %tensorflow_version only exists in Colab.\n",
        "  !pip install tf-nightly\n",
        "except Exception:\n",
        "  pass\n",
        "import tensorflow as tf\n",
        "import pandas as pd\n",
        "from tensorflow import keras\n",
        "from tensorflow.keras.models import Sequential\n",
        "from tensorflow.keras.layers import Flatten, Embedding, Dense, LSTM\n",
        "from keras.datasets import imdb\n",
        "from keras.preprocessing import sequence\n",
        "\n",
        "!pip install tensorflow-datasets\n",
        "import tensorflow_datasets as tfds\n",
        "import numpy as np\n",
        "import matplotlib.pyplot as plt\n",
        "\n",
        "import re\n",
        "\n",
        "print(tf.__version__)"
      ]
    },
    {
      "cell_type": "code",
      "execution_count": null,
      "metadata": {
        "id": "lMHwYXHXCar3"
      },
      "outputs": [],
      "source": [
        "# get data files\n",
        "!wget https://cdn.freecodecamp.org/project-data/sms/train-data.tsv\n",
        "!wget https://cdn.freecodecamp.org/project-data/sms/valid-data.tsv\n",
        "\n",
        "train_file_path = \"train-data.tsv\"\n",
        "test_file_path = \"valid-data.tsv\""
      ]
    },
    {
      "cell_type": "code",
      "execution_count": null,
      "metadata": {
        "id": "g_h508FEClxO"
      },
      "outputs": [],
      "source": [
        "# load imdb word index\n",
        "word_index = imdb.get_word_index()\n",
        "# set vocab size to length of word index\n",
        "VOCAB_SIZE = len(word_index)\n",
        "BATCH_SIZE = 64\n",
        "\n",
        "# Preprocessing\n",
        "def process_dataset(dataset):\n",
        "    data = dataset.copy()\n",
        "    # Convert class labels to numerical values using a dictionary\n",
        "    label_map = {'ham': 0, 'spam': 1}\n",
        "    data['type'] = data['type'].map(label_map)\n",
        "    # Extract labels and return a tuple\n",
        "    labels = data.pop('type').values.astype(np.float32)\n",
        "    text_data = data['message'].values\n",
        "    return text_data, labels\n",
        "\n",
        "# Function for encoding text message\n",
        "def encode_text(text):\n",
        "    # Tokenize the text into individual words\n",
        "    tokens = keras.preprocessing.text.text_to_word_sequence(text)\n",
        "    # Convert words to integer indices using the word index\n",
        "    tokens = [word_index[word] if word in word_index else 0 for word in tokens]\n",
        "    # Pad the sequence to a fixed length and return it\n",
        "    return sequence.pad_sequences([tokens], MAXLEN)[0]\n",
        "\n",
        "def encode_dataset(dataset):\n",
        "    # encode each message and create a list\n",
        "    encoded_data = [encode_text(message) for message in dataset]\n",
        "    # Convert the list to a NumPy array\n",
        "    return np.array(encoded_data)\n"
      ]
    },
    {
      "cell_type": "code",
      "execution_count": null,
      "metadata": {
        "id": "zOMKywn4zReN"
      },
      "outputs": [],
      "source": [
        "\n",
        "\n",
        "# import data seperated by tabs (\\t), and set column names to type, and message\n",
        "train_dataset = pd.read_csv(\n",
        "    'train-data.tsv',\n",
        "    sep='\\t',\n",
        "    names=['type', 'message']\n",
        "    )\n",
        "\n",
        "test_dataset = pd.read_csv(\n",
        "    'valid-data.tsv',\n",
        "    sep='\\t',\n",
        "    names=['type', 'message']\n",
        "    )\n",
        "\n",
        "# Assign \"spam\" or \"ham\" integer values, and split from messages\n",
        "train_data, train_labels = process_dataset(train_dataset)\n",
        "test_data, test_labels = process_dataset(test_dataset)\n",
        "\n",
        "# Get max message length for each dataset\n",
        "MAXLEN_train = max(train_data, key=len)\n",
        "MAXLEN_test = max(test_data, key=len)\n",
        "MAXLEN = max(len(MAXLEN_train.strip()), len(MAXLEN_test.strip()))\n",
        "\n",
        "# Modify data to feed to model\n",
        "encoded_train_data = encode_dataset(train_data)\n",
        "encoded_test_data = encode_dataset(test_data)\n"
      ]
    },
    {
      "cell_type": "code",
      "source": [
        "# Create a sequential model for text classification.\n",
        "model = Sequential([\n",
        "    Embedding(VOCAB_SIZE, 32), # Embed words into a 32-dimensional space.\n",
        "    LSTM(32), # Process sequential data using a Long Short-Term Memory layer.\n",
        "    Dense(1, activation=\"sigmoid\") # has 1 unit for binary classification, use a sigmoid activation function to output a probability between 0 and 1.\n",
        "    ])\n",
        "\n",
        "model.compile(\n",
        "    loss=\"binary_crossentropy\", # Use binary cross-entropy loss for binary classification.\n",
        "    optimizer=\"rmsprop\", # Optimize the model using the RMSprop algorithm.\n",
        "    metrics=['acc'] # Evaluate model performance using accuracy.\n",
        "    )\n",
        "\n",
        "model.summary()\n",
        "\n",
        "# Fit model\n",
        "model.fit(\n",
        "    encoded_train_data,\n",
        "    train_labels,\n",
        "    epochs=5,\n",
        "    validation_split = 0.2\n",
        "    )"
      ],
      "metadata": {
        "id": "2sg-8NEEouVx"
      },
      "execution_count": null,
      "outputs": []
    },
    {
      "cell_type": "code",
      "execution_count": null,
      "metadata": {
        "id": "J9tD9yACG6M9"
      },
      "outputs": [],
      "source": [
        "# function to predict messages based on model\n",
        "# (should return list containing prediction and label, ex. [0.008318834938108921, 'ham'])\n",
        "def predict_message(pred_text):\n",
        "    # Encode the input text\n",
        "    encoded_text = encode_text(pred_text)\n",
        "    # Prepare the input for the model\n",
        "    pred = np.zeros((1, MAXLEN))\n",
        "    pred[0] = encoded_text\n",
        "    # Make a prediction using the model\n",
        "    result = model.predict(pred).flatten()[0]\n",
        "    # Determine the predicted class label\n",
        "    label = \"spam\" if result > 0.5 else \"ham\"\n",
        "    # Return the prediction\n",
        "    prediction = [result, label]\n",
        "    return prediction\n",
        "\n",
        "pred_text = \"how are you doing today?\"\n",
        "\n",
        "prediction = predict_message(pred_text)\n",
        "print(prediction)"
      ]
    },
    {
      "cell_type": "code",
      "execution_count": null,
      "metadata": {
        "id": "Dxotov85SjsC"
      },
      "outputs": [],
      "source": [
        "# Run this cell to test your function and model. Do not modify contents.\n",
        "def test_predictions():\n",
        "  test_messages = [\"how are you doing today\",\n",
        "                   \"sale today! to stop texts call 98912460324\",\n",
        "                   \"i dont want to go. can we try it a different day? available sat\",\n",
        "                   \"our new mobile video service is live. just install on your phone to start watching.\",\n",
        "                   \"you have won £1000 cash! call to claim your prize.\",\n",
        "                   \"i'll bring it tomorrow. don't forget the milk.\",\n",
        "                   \"wow, is your arm alright. that happened to me one time too\"\n",
        "                  ]\n",
        "\n",
        "  test_answers = [\"ham\", \"spam\", \"ham\", \"spam\", \"spam\", \"ham\", \"ham\"]\n",
        "  passed = True\n",
        "\n",
        "  for msg, ans in zip(test_messages, test_answers):\n",
        "    prediction = predict_message(msg)\n",
        "    if prediction[1] != ans:\n",
        "      passed = False\n",
        "\n",
        "  if passed:\n",
        "    print(\"You passed the challenge. Great job!\")\n",
        "  else:\n",
        "    print(\"You haven't passed yet. Keep trying.\")\n",
        "\n",
        "test_predictions()\n"
      ]
    }
  ],
  "metadata": {
    "colab": {
      "name": "fcc_sms_text_classification.ipynb",
      "private_outputs": true,
      "provenance": [],
      "gpuType": "T4"
    },
    "kernelspec": {
      "display_name": "Python 3",
      "name": "python3"
    },
    "language_info": {}
  },
  "nbformat": 4,
  "nbformat_minor": 0
}
